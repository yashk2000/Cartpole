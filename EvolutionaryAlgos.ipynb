{
  "nbformat": 4,
  "nbformat_minor": 0,
  "metadata": {
    "colab": {
      "name": "EvolutionaryAlgos.ipynb",
      "provenance": [],
      "authorship_tag": "ABX9TyM407YHDw1/iJyyrzxQBy6x",
      "include_colab_link": true
    },
    "kernelspec": {
      "name": "python3",
      "display_name": "Python 3"
    },
    "language_info": {
      "name": "python"
    }
  },
  "cells": [
    {
      "cell_type": "markdown",
      "metadata": {
        "id": "view-in-github",
        "colab_type": "text"
      },
      "source": [
        "<a href=\"https://colab.research.google.com/github/yashk2000/Cartpole/blob/main/EvolutionaryAlgos.ipynb\" target=\"_parent\"><img src=\"https://colab.research.google.com/assets/colab-badge.svg\" alt=\"Open In Colab\"/></a>"
      ]
    },
    {
      "cell_type": "code",
      "metadata": {
        "id": "sFQ08jKSSfiC"
      },
      "source": [
        "import random\n",
        "from matplotlib import pyplot as plt\n",
        "\n",
        "alphabet = \"abcdefghijklmnopqrstuvwxyzABCDEFGHIJKLMNOPQRSTUVWXYZ,.! \"\n",
        "target = \"Hello World\"\n",
        "\n",
        "class Individual: \n",
        "  def __init__(self, string, fitness=0):\n",
        "    self.string = string\n",
        "    self.fitness = fitness\n",
        "\n",
        "from difflib import SequenceMatcher\n",
        "\n",
        "def similar(a, b):\n",
        "  return SequenceMatcher(None, a, b).ratio()\n",
        "\n",
        "def spawn_population(length=26, size=100):\n",
        "  pop = []\n",
        "  for i in range(size):\n",
        "    string = ''.join(random.choices(alphabet, k=length))\n",
        "    individual = Individual(string)\n",
        "    pop.append(individual)\n",
        "  return pop"
      ],
      "execution_count": null,
      "outputs": []
    },
    {
      "cell_type": "code",
      "metadata": {
        "id": "6YjT_j4pWOEK"
      },
      "source": [
        "def recombine(p1_, p2_):\n",
        "  p1 = p1_.string\n",
        "  p2 = p2_.string\n",
        "  child1 = []\n",
        "  child2 = []\n",
        "  cross_pt = random.randint(0, len(p1))\n",
        "  child1.extend(p1[0:cross_pt])\n",
        "  child1.extend(p2[cross_pt:])\n",
        "  child2.extend(p2[0:cross_pt])\n",
        "  child2.extend(p1[cross_pt:])\n",
        "  c1 = Individual(''.join(child1))\n",
        "  c2 = Individual(''.join(child2))\n",
        "  return c1, c2\n",
        "\n",
        "def mutate(x, mut_rate=0.01):\n",
        "  new_x_ = []\n",
        "  for char in x.string:\n",
        "    if random.random() < mut_rate:\n",
        "      new_x_.extend(random.choices(alphabet, k=1))\n",
        "    else: \n",
        "      new_x_.append(char)\n",
        "  new_x  = Individual(''.join(new_x_))\n",
        "  return new_x"
      ],
      "execution_count": null,
      "outputs": []
    },
    {
      "cell_type": "code",
      "metadata": {
        "id": "_Ngdx6IQYCNo"
      },
      "source": [
        "def evaluate_population(pop, target): \n",
        "    avg_fit = 0\n",
        "    for i in range(len(pop)):\n",
        "        fit = similar(pop[i].string, target)\n",
        "        pop[i].fitness = fit\n",
        "        avg_fit += fit\n",
        "    avg_fit /= len(pop)\n",
        "    return pop, avg_fit\n",
        "\n",
        "def next_generation(pop, size=100, length=26, mut_rate=0.01):\n",
        "    new_pop = []\n",
        "    while len(new_pop) < size:\n",
        "        parents = random.choices(pop,k=2, weights=[x.fitness for x in pop])\n",
        "        offspring_ = recombine(parents[0],parents[1])\n",
        "        child1 = mutate(offspring_[0], mut_rate=mut_rate)\n",
        "        child2 = mutate(offspring_[1], mut_rate=mut_rate)\n",
        "        offspring = [child1, child2]\n",
        "        new_pop.extend(offspring)\n",
        "    return new_pop"
      ],
      "execution_count": null,
      "outputs": []
    },
    {
      "cell_type": "code",
      "metadata": {
        "id": "amyg_LdHYh-y"
      },
      "source": [
        "num_generations = 150\n",
        "population_size = 900\n",
        "str_len = len(target)\n",
        "mutation_rate = 0.000000001 \n",
        "\n",
        "pop_fit = []\n",
        "pop = spawn_population(size=population_size, length=str_len) \n",
        "done = False\n",
        "for gen in range(num_generations):\n",
        "    pop, avg_fit = evaluate_population(pop, target)\n",
        "    pop_fit.append(avg_fit) \n",
        "    new_pop = next_generation(pop, \\\n",
        "        size=population_size, length=str_len, mut_rate=mutation_rate)\n",
        "    pop = new_pop\n",
        "    for x in pop: \n",
        "        if x.string == target: \n",
        "            print(\"Target Found!\")\n",
        "            done = True\n",
        "    if done:\n",
        "        break"
      ],
      "execution_count": null,
      "outputs": []
    },
    {
      "cell_type": "code",
      "metadata": {
        "colab": {
          "base_uri": "https://localhost:8080/",
          "height": 35
        },
        "id": "fCRxdnZLZgxW",
        "outputId": "92e420f0-5bfd-4f9f-8949-e2538478588c"
      },
      "source": [
        "pop.sort(key=lambda x: x.fitness, reverse=True)\n",
        "pop[2].string"
      ],
      "execution_count": null,
      "outputs": [
        {
          "output_type": "execute_result",
          "data": {
            "application/vnd.google.colaboratory.intrinsic+json": {
              "type": "string"
            },
            "text/plain": [
              "'HelloO orld'"
            ]
          },
          "metadata": {
            "tags": []
          },
          "execution_count": 45
        }
      ]
    },
    {
      "cell_type": "code",
      "metadata": {
        "colab": {
          "base_uri": "https://localhost:8080/",
          "height": 469
        },
        "id": "SuTQezedaE5l",
        "outputId": "e95678e0-b4fe-40eb-c2f1-c202fb1671ec"
      },
      "source": [
        "plt.figure(figsize=(12,7))\n",
        "plt.xlabel(\"Generations\",fontsize=22)\n",
        "plt.ylabel(\"Fitness\",fontsize=22)\n",
        "plt.plot(pop_fit)"
      ],
      "execution_count": null,
      "outputs": [
        {
          "output_type": "execute_result",
          "data": {
            "text/plain": [
              "[<matplotlib.lines.Line2D at 0x7f96dd810a90>]"
            ]
          },
          "metadata": {
            "tags": []
          },
          "execution_count": 46
        },
        {
          "output_type": "display_data",
          "data": {
            "image/png": "[encoded data removed]",
            "text/plain": [
              "<Figure size 864x504 with 1 Axes>"
            ]
          },
          "metadata": {
            "tags": [],
            "needs_background": "light"
          }
        }
      ]
    },
    {
      "cell_type": "markdown",
      "metadata": {
        "id": "VmmCH7NqR75W"
      },
      "source": [
        "# Trying evolutionary algo on cartpole "
      ]
    },
    {
      "cell_type": "markdown",
      "metadata": {
        "id": "TFkWc20bR_wN"
      },
      "source": [
        "## Defining the agent"
      ]
    },
    {
      "cell_type": "code",
      "metadata": {
        "id": "snQx3lItR-_n"
      },
      "source": [
        "import numpy as np\n",
        "import torch \n",
        "\n",
        "def model(x,unpacked_params):\n",
        "    l1,b1,l2,b2,l3,b3 = unpacked_params \n",
        "    y = torch.nn.functional.linear(x,l1,b1)\n",
        "    y = torch.relu(y) \n",
        "    y = torch.nn.functional.linear(y,l2,b2)\n",
        "    y = torch.relu(y)\n",
        "    y = torch.nn.functional.linear(y,l3,b3)\n",
        "    y = torch.log_softmax(y,dim=0)\n",
        "    return y"
      ],
      "execution_count": 14,
      "outputs": []
    },
    {
      "cell_type": "markdown",
      "metadata": {
        "id": "hL_SRGn-SprZ"
      },
      "source": [
        "## Unpacking a parameter vector"
      ]
    },
    {
      "cell_type": "code",
      "metadata": {
        "id": "2iYeFXlESsNP"
      },
      "source": [
        "def unpack_params(params, layers=[(25,4),(10,25),(2,10)]): \n",
        "    unpacked_params = [] \n",
        "    e = 0\n",
        "    for i,l in enumerate(layers):\n",
        "        s,e = e,e+np.prod(l)\n",
        "        weights = params[s:e].view(l)\n",
        "        s,e = e,e+l[0]\n",
        "        bias = params[s:e]\n",
        "        unpacked_params.extend([weights,bias]) \n",
        "    return unpacked_params"
      ],
      "execution_count": 15,
      "outputs": []
    },
    {
      "cell_type": "markdown",
      "metadata": {
        "id": "nCa9Oghm3jf5"
      },
      "source": [
        "## Spawning a population"
      ]
    },
    {
      "cell_type": "code",
      "metadata": {
        "id": "CBZltqsu3lUb"
      },
      "source": [
        "def spawn_population(N=50,size=407): \n",
        "    pop = []\n",
        "    for i in range(N):\n",
        "        vec = torch.randn(size) / 2.0\n",
        "        fit = 0\n",
        "        p = {'params':vec, 'fitness':fit}\n",
        "        pop.append(p)\n",
        "    return pop"
      ],
      "execution_count": 16,
      "outputs": []
    },
    {
      "cell_type": "markdown",
      "metadata": {
        "id": "VoTjADiQ4gNm"
      },
      "source": [
        "## Genetic Recombination"
      ]
    },
    {
      "cell_type": "code",
      "metadata": {
        "id": "T8-1ifzP3ag-"
      },
      "source": [
        "def recombine(x1,x2): \n",
        "    x1 = x1['params'] \n",
        "    x2 = x2['params']\n",
        "    l = x1.shape[0]\n",
        "    split_pt = np.random.randint(l)\n",
        "    child1 = torch.zeros(l)\n",
        "    child2 = torch.zeros(l)\n",
        "    child1[0:split_pt] = x1[0:split_pt] \n",
        "    child1[split_pt:] = x2[split_pt:]\n",
        "    child2[0:split_pt] = x2[0:split_pt]\n",
        "    child2[split_pt:] = x1[split_pt:]\n",
        "    c1 = {'params':child1, 'fitness': 0.0}\n",
        "    c2 = {'params':child2, 'fitness': 0.0}\n",
        "    return c1, c2"
      ],
      "execution_count": 17,
      "outputs": []
    },
    {
      "cell_type": "markdown",
      "metadata": {
        "id": "BYK1ZMSx5yZG"
      },
      "source": [
        "## Mutating the parameter vectors"
      ]
    },
    {
      "cell_type": "code",
      "metadata": {
        "id": "40m0h2tf50q4"
      },
      "source": [
        "def mutate(x, rate=0.01): \n",
        "    x_ = x['params']\n",
        "    num_to_change = int(rate * x_.shape[0])\n",
        "    idx = np.random.randint(low=0,high=x_.shape[0],size=(num_to_change,))\n",
        "    x_[idx] = torch.randn(num_to_change) / 10.0\n",
        "    x['params'] = x_\n",
        "    return x"
      ],
      "execution_count": 18,
      "outputs": []
    },
    {
      "cell_type": "code",
      "metadata": {
        "id": "L1kToQON8fvT"
      },
      "source": [
        "import gym\n",
        "\n",
        "env = gym.make(\"CartPole-v0\")\n",
        "\n",
        "def test_model(agent):\n",
        "    done = False\n",
        "    state = torch.from_numpy(env.reset()).float()\n",
        "    score = 0\n",
        "    while not done: \n",
        "        params = unpack_params(agent['params'])\n",
        "        probs = model(state,params)\n",
        "        action = torch.distributions.Categorical(probs=probs).sample() \n",
        "        state_, reward, done, info = env.step(action.item())\n",
        "        state = torch.from_numpy(state_).float()\n",
        "        score += 1 \n",
        "    return score"
      ],
      "execution_count": 19,
      "outputs": []
    },
    {
      "cell_type": "markdown",
      "metadata": {
        "id": "LvzJmmQ--Ngz"
      },
      "source": [
        "## Evaluate agents in a population"
      ]
    },
    {
      "cell_type": "code",
      "metadata": {
        "id": "wOYfL5We-Prq"
      },
      "source": [
        "def evaluate_population(pop):\n",
        "    tot_fit = 0 \n",
        "    lp = len(pop)\n",
        "    for agent in pop:\n",
        "        score = test_model(agent) \n",
        "        agent['fitness'] = score \n",
        "        tot_fit += score\n",
        "    avg_fit = tot_fit / lp\n",
        "    return pop, avg_fit"
      ],
      "execution_count": 20,
      "outputs": []
    },
    {
      "cell_type": "code",
      "metadata": {
        "id": "mIh1YVo9-61x"
      },
      "source": [
        "def next_generation(pop,mut_rate=0.001,tournament_size=0.2):\n",
        "    new_pop = []\n",
        "    lp = len(pop)\n",
        "    while len(new_pop) < len(pop): \n",
        "        rids = np.random.randint(low=0,high=lp,size=(int(tournament_size*lp))) \n",
        "        batch = np.array([[i,x['fitness']] for (i,x) in enumerate(pop) if i in rids])\n",
        "        scores = batch[batch[:, 1].argsort()] \n",
        "        i0, i1 = int(scores[-1][0]),int(scores[-2][0])\n",
        "        parent0,parent1 = pop[i0],pop[i1]\n",
        "        offspring_ = recombine(parent0,parent1) \n",
        "        child1 = mutate(offspring_[0], rate=mut_rate)\n",
        "        child2 = mutate(offspring_[1], rate=mut_rate)\n",
        "        offspring = [child1, child2]\n",
        "        new_pop.extend(offspring)\n",
        "    return new_pop"
      ],
      "execution_count": 21,
      "outputs": []
    },
    {
      "cell_type": "code",
      "metadata": {
        "id": "MHgOtaos_KIY"
      },
      "source": [
        "num_generations = 20 \n",
        "population_size = 500\n",
        "mutation_rate = 0.01\n",
        "pop_fit = []\n",
        "pop = spawn_population(N=population_size,size=407)\n",
        "for i in range(num_generations):\n",
        "    pop, avg_fit = evaluate_population(pop) \n",
        "    pop_fit.append(avg_fit)\n",
        "    pop = next_generation(pop, mut_rate=mutation_rate,tournament_size=0.2) "
      ],
      "execution_count": 22,
      "outputs": []
    },
    {
      "cell_type": "code",
      "metadata": {
        "colab": {
          "base_uri": "https://localhost:8080/",
          "height": 469
        },
        "id": "BXakg6lG_QYy",
        "outputId": "921c286e-e8b9-4c32-c392-13182590ebe0"
      },
      "source": [
        "import matplotlib.pyplot as plt\n",
        "plt.figure(figsize=(12,7))\n",
        "plt.xlabel(\"Generations\",fontsize=22)\n",
        "plt.ylabel(\"Score\",fontsize=22)\n",
        "plt.plot(running_mean(np.array(pop_fit),3))"
      ],
      "execution_count": 25,
      "outputs": [
        {
          "output_type": "execute_result",
          "data": {
            "text/plain": [
              "[<matplotlib.lines.Line2D at 0x7f8340b2d3d0>]"
            ]
          },
          "metadata": {
            "tags": []
          },
          "execution_count": 25
        },
        {
          "output_type": "display_data",
          "data": {
            "image/png": "[encoded data removed]",
            "text/plain": [
              "<Figure size 864x504 with 1 Axes>"
            ]
          },
          "metadata": {
            "tags": [],
            "needs_background": "light"
          }
        }
      ]
    },
    {
      "cell_type": "code",
      "metadata": {
        "colab": {
          "base_uri": "https://localhost:8080/"
        },
        "id": "yXel3xKVDJD1",
        "outputId": "b1200f25-d934-43b2-d679-cfaaa3825ecf"
      },
      "source": [
        "test_model(pop[0])"
      ],
      "execution_count": 26,
      "outputs": [
        {
          "output_type": "execute_result",
          "data": {
            "text/plain": [
              "200"
            ]
          },
          "metadata": {
            "tags": []
          },
          "execution_count": 26
        }
      ]
    },
    {
      "cell_type": "code",
      "metadata": {
        "colab": {
          "base_uri": "https://localhost:8080/",
          "height": 472
        },
        "id": "aeY44wXbDLon",
        "outputId": "fbfd4355-b9ef-468b-d021-8f980bafcf46"
      },
      "source": [
        "plt.figure(figsize=(15,7))\n",
        "plt.axis('off')\n",
        "plt.xlabel(\"Compute resources\",fontsize=22)\n",
        "plt.ylabel(\"Performance\",fontsize=22)\n",
        "x = np.linspace(0,100,1000)\n",
        "y = np.log(x)\n",
        "plt.plot(x,y)"
      ],
      "execution_count": 27,
      "outputs": [
        {
          "output_type": "stream",
          "text": [
            "/usr/local/lib/python3.7/dist-packages/ipykernel_launcher.py:6: RuntimeWarning: divide by zero encountered in log\n",
            "  \n"
          ],
          "name": "stderr"
        },
        {
          "output_type": "execute_result",
          "data": {
            "text/plain": [
              "[<matplotlib.lines.Line2D at 0x7f8340617a90>]"
            ]
          },
          "metadata": {
            "tags": []
          },
          "execution_count": 27
        },
        {
          "output_type": "display_data",
          "data": {
            "image/png": "[encoded data removed]",
            "text/plain": [
              "<Figure size 1080x504 with 1 Axes>"
            ]
          },
          "metadata": {
            "tags": [],
            "needs_background": "light"
          }
        }
      ]
    },
    {
      "cell_type": "code",
      "metadata": {
        "id": "EGFwaBvZDRAn"
      },
      "source": [
        "def running_mean(x,n=5):\n",
        "    conv = np.ones(n)\n",
        "    y = np.zeros(x.shape[0]-n)\n",
        "    for i in range(x.shape[0]-n):\n",
        "        y[i] = (conv @ x[i:i+n]) / n\n",
        "    return y"
      ],
      "execution_count": 24,
      "outputs": []
    }
  ]
}